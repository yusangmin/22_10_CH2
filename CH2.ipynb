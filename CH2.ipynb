{
  "nbformat": 4,
  "nbformat_minor": 0,
  "metadata": {
    "colab": {
      "provenance": [],
      "authorship_tag": "ABX9TyNz0c/ex1lPFqKBrHgGC1Uo",
      "include_colab_link": true
    },
    "kernelspec": {
      "name": "python3",
      "display_name": "Python 3"
    },
    "language_info": {
      "name": "python"
    }
  },
  "cells": [
    {
      "cell_type": "markdown",
      "metadata": {
        "id": "view-in-github",
        "colab_type": "text"
      },
      "source": [
        "<a href=\"https://colab.research.google.com/github/yusangmin/22_10_CH2/blob/main/CH2.ipynb\" target=\"_parent\"><img src=\"https://colab.research.google.com/assets/colab-badge.svg\" alt=\"Open In Colab\"/></a>"
      ]
    },
    {
      "cell_type": "markdown",
      "source": [
        "이름을 입력하시오: 홍길동\n",
        "홍길동 씨, 안녕하세요?\n",
        "파이썬에 오신 것을 환영합니다.\n",
        "첫 번째 정수를 입력하시오: 300\n",
        "두 번째 정수를 입력하시오: 400\n",
        "300과 400의 합은 700입니다."
      ],
      "metadata": {
        "id": "27cCjqFntgRt"
      }
    },
    {
      "cell_type": "code",
      "source": [
        "name =input(\"이름을 입력하시오.: \")\n",
        "print(name, \"씨, 안녕하세요?\")\n",
        "print(\"파이썬에 오신것을 환영합니다.\")\n",
        "x = int(input(\"첫번째 정수를 입력하시오.: \"))\n",
        "y = int(input(\"두번째 정수를 입력하시오.: \"))\n",
        "sum = x + y\n",
        "print(x,\"과\", y,\"의 합은\", sum, \"입니다.\")"
      ],
      "metadata": {
        "colab": {
          "base_uri": "https://localhost:8080/"
        },
        "id": "Mh11yzPKt0RN",
        "outputId": "697b63fe-31df-4b75-cfa1-7baa62439519"
      },
      "execution_count": 2,
      "outputs": [
        {
          "output_type": "stream",
          "name": "stdout",
          "text": [
            "이름을 입력하시오.: 홍길도\n",
            "홍길도 씨, 안녕하세요?\n",
            "파이썬에 오신것을 환영합니다.\n",
            "첫번째 정수를 입력하시오.: 300\n",
            "두번째 정수를 입력하시오.: 400\n",
            "300 과 400 의 합은 700 입니다.\n"
          ]
        }
      ]
    }
  ]
}
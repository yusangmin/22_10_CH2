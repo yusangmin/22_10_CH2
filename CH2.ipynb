{
  "nbformat": 4,
  "nbformat_minor": 0,
  "metadata": {
    "colab": {
      "provenance": [],
      "authorship_tag": "ABX9TyN5uwkOfHeJatWIr4dgvOOf",
      "include_colab_link": true
    },
    "kernelspec": {
      "name": "python3",
      "display_name": "Python 3"
    },
    "language_info": {
      "name": "python"
    }
  },
  "cells": [
    {
      "cell_type": "markdown",
      "metadata": {
        "id": "view-in-github",
        "colab_type": "text"
      },
      "source": [
        "<a href=\"https://colab.research.google.com/github/yusangmin/22_10_CH2/blob/main/CH2.ipynb\" target=\"_parent\"><img src=\"https://colab.research.google.com/assets/colab-badge.svg\" alt=\"Open In Colab\"/></a>"
      ]
    },
    {
      "cell_type": "markdown",
      "source": [
        "이름을 입력하시오: 홍길동\n",
        "홍길동 씨, 안녕하세요?\n",
        "파이썬에 오신 것을 환영합니다.\n",
        "첫 번째 정수를 입력하시오: 300\n",
        "두 번째 정수를 입력하시오: 400\n",
        "300과 400의 합은 700입니다."
      ],
      "metadata": {
        "id": "27cCjqFntgRt"
      }
    },
    {
      "cell_type": "code",
      "source": [],
      "metadata": {
        "id": "Mh11yzPKt0RN"
      },
      "execution_count": null,
      "outputs": []
    }
  ]
}